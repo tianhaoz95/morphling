{
  "nbformat": 4,
  "nbformat_minor": 0,
  "metadata": {
    "colab": {
      "name": "style_gan_experiment.ipynb",
      "provenance": [],
      "machine_shape": "hm",
      "authorship_tag": "ABX9TyOEqoCjp3pNQTc+HDTTHpYN",
      "include_colab_link": true
    },
    "kernelspec": {
      "name": "python3",
      "display_name": "Python 3"
    },
    "accelerator": "TPU",
    "widgets": {
      "application/vnd.jupyter.widget-state+json": {
        "afe401958aef4cbb8992542fea45db25": {
          "model_module": "@jupyter-widgets/controls",
          "model_name": "HBoxModel",
          "state": {
            "_view_name": "HBoxView",
            "_dom_classes": [],
            "_model_name": "HBoxModel",
            "_view_module": "@jupyter-widgets/controls",
            "_model_module_version": "1.5.0",
            "_view_count": null,
            "_view_module_version": "1.5.0",
            "box_style": "",
            "layout": "IPY_MODEL_561de5357c00416ca0ab696494287692",
            "_model_module": "@jupyter-widgets/controls",
            "children": [
              "IPY_MODEL_d44865d713954cbb8841ce36614a709e",
              "IPY_MODEL_05f03264428c4f8cbbdf4c3ed8d8748d"
            ]
          }
        },
        "561de5357c00416ca0ab696494287692": {
          "model_module": "@jupyter-widgets/base",
          "model_name": "LayoutModel",
          "state": {
            "_view_name": "LayoutView",
            "grid_template_rows": null,
            "right": null,
            "justify_content": null,
            "_view_module": "@jupyter-widgets/base",
            "overflow": null,
            "_model_module_version": "1.2.0",
            "_view_count": null,
            "flex_flow": null,
            "width": null,
            "min_width": null,
            "border": null,
            "align_items": null,
            "bottom": null,
            "_model_module": "@jupyter-widgets/base",
            "top": null,
            "grid_column": null,
            "overflow_y": null,
            "overflow_x": null,
            "grid_auto_flow": null,
            "grid_area": null,
            "grid_template_columns": null,
            "flex": null,
            "_model_name": "LayoutModel",
            "justify_items": null,
            "grid_row": null,
            "max_height": null,
            "align_content": null,
            "visibility": null,
            "align_self": null,
            "height": null,
            "min_height": null,
            "padding": null,
            "grid_auto_rows": null,
            "grid_gap": null,
            "max_width": null,
            "order": null,
            "_view_module_version": "1.2.0",
            "grid_template_areas": null,
            "object_position": null,
            "object_fit": null,
            "grid_auto_columns": null,
            "margin": null,
            "display": null,
            "left": null
          }
        },
        "d44865d713954cbb8841ce36614a709e": {
          "model_module": "@jupyter-widgets/controls",
          "model_name": "FloatProgressModel",
          "state": {
            "_view_name": "ProgressView",
            "style": "IPY_MODEL_66007372ec344b02abf4d8dd2ec7edb0",
            "_dom_classes": [],
            "description": "Epochs:  17%",
            "_model_name": "FloatProgressModel",
            "bar_style": "",
            "max": 23500,
            "_view_module": "@jupyter-widgets/controls",
            "_model_module_version": "1.5.0",
            "value": 4037,
            "_view_count": null,
            "_view_module_version": "1.5.0",
            "orientation": "horizontal",
            "min": 0,
            "description_tooltip": null,
            "_model_module": "@jupyter-widgets/controls",
            "layout": "IPY_MODEL_e63a1bacf4644a5fa302a5e53f5ee268"
          }
        },
        "05f03264428c4f8cbbdf4c3ed8d8748d": {
          "model_module": "@jupyter-widgets/controls",
          "model_name": "HTMLModel",
          "state": {
            "_view_name": "HTMLView",
            "style": "IPY_MODEL_634ed7db9b014cc6b57217c1011d83a2",
            "_dom_classes": [],
            "description": "",
            "_model_name": "HTMLModel",
            "placeholder": "​",
            "_view_module": "@jupyter-widgets/controls",
            "_model_module_version": "1.5.0",
            "value": " 4037/23500 [38:54&lt;3:06:58,  1.73it/s]",
            "_view_count": null,
            "_view_module_version": "1.5.0",
            "description_tooltip": null,
            "_model_module": "@jupyter-widgets/controls",
            "layout": "IPY_MODEL_45f5a3334bb3486fa17c324fea907320"
          }
        },
        "66007372ec344b02abf4d8dd2ec7edb0": {
          "model_module": "@jupyter-widgets/controls",
          "model_name": "ProgressStyleModel",
          "state": {
            "_view_name": "StyleView",
            "_model_name": "ProgressStyleModel",
            "description_width": "initial",
            "_view_module": "@jupyter-widgets/base",
            "_model_module_version": "1.5.0",
            "_view_count": null,
            "_view_module_version": "1.2.0",
            "bar_color": null,
            "_model_module": "@jupyter-widgets/controls"
          }
        },
        "e63a1bacf4644a5fa302a5e53f5ee268": {
          "model_module": "@jupyter-widgets/base",
          "model_name": "LayoutModel",
          "state": {
            "_view_name": "LayoutView",
            "grid_template_rows": null,
            "right": null,
            "justify_content": null,
            "_view_module": "@jupyter-widgets/base",
            "overflow": null,
            "_model_module_version": "1.2.0",
            "_view_count": null,
            "flex_flow": null,
            "width": null,
            "min_width": null,
            "border": null,
            "align_items": null,
            "bottom": null,
            "_model_module": "@jupyter-widgets/base",
            "top": null,
            "grid_column": null,
            "overflow_y": null,
            "overflow_x": null,
            "grid_auto_flow": null,
            "grid_area": null,
            "grid_template_columns": null,
            "flex": null,
            "_model_name": "LayoutModel",
            "justify_items": null,
            "grid_row": null,
            "max_height": null,
            "align_content": null,
            "visibility": null,
            "align_self": null,
            "height": null,
            "min_height": null,
            "padding": null,
            "grid_auto_rows": null,
            "grid_gap": null,
            "max_width": null,
            "order": null,
            "_view_module_version": "1.2.0",
            "grid_template_areas": null,
            "object_position": null,
            "object_fit": null,
            "grid_auto_columns": null,
            "margin": null,
            "display": null,
            "left": null
          }
        },
        "634ed7db9b014cc6b57217c1011d83a2": {
          "model_module": "@jupyter-widgets/controls",
          "model_name": "DescriptionStyleModel",
          "state": {
            "_view_name": "StyleView",
            "_model_name": "DescriptionStyleModel",
            "description_width": "",
            "_view_module": "@jupyter-widgets/base",
            "_model_module_version": "1.5.0",
            "_view_count": null,
            "_view_module_version": "1.2.0",
            "_model_module": "@jupyter-widgets/controls"
          }
        },
        "45f5a3334bb3486fa17c324fea907320": {
          "model_module": "@jupyter-widgets/base",
          "model_name": "LayoutModel",
          "state": {
            "_view_name": "LayoutView",
            "grid_template_rows": null,
            "right": null,
            "justify_content": null,
            "_view_module": "@jupyter-widgets/base",
            "overflow": null,
            "_model_module_version": "1.2.0",
            "_view_count": null,
            "flex_flow": null,
            "width": null,
            "min_width": null,
            "border": null,
            "align_items": null,
            "bottom": null,
            "_model_module": "@jupyter-widgets/base",
            "top": null,
            "grid_column": null,
            "overflow_y": null,
            "overflow_x": null,
            "grid_auto_flow": null,
            "grid_area": null,
            "grid_template_columns": null,
            "flex": null,
            "_model_name": "LayoutModel",
            "justify_items": null,
            "grid_row": null,
            "max_height": null,
            "align_content": null,
            "visibility": null,
            "align_self": null,
            "height": null,
            "min_height": null,
            "padding": null,
            "grid_auto_rows": null,
            "grid_gap": null,
            "max_width": null,
            "order": null,
            "_view_module_version": "1.2.0",
            "grid_template_areas": null,
            "object_position": null,
            "object_fit": null,
            "grid_auto_columns": null,
            "margin": null,
            "display": null,
            "left": null
          }
        }
      }
    }
  },
  "cells": [
    {
      "cell_type": "markdown",
      "metadata": {
        "id": "view-in-github",
        "colab_type": "text"
      },
      "source": [
        "<a href=\"https://colab.research.google.com/github/tianhaoz95/morphling/blob/experiment%2Fstyle-gan/notebooks/style_gan_experiment.ipynb\" target=\"_parent\"><img src=\"https://colab.research.google.com/assets/colab-badge.svg\" alt=\"Open In Colab\"/></a>"
      ]
    },
    {
      "cell_type": "markdown",
      "metadata": {
        "id": "zYbtBhjwGHS1",
        "colab_type": "text"
      },
      "source": [
        "# GAN Experiment"
      ]
    },
    {
      "cell_type": "markdown",
      "metadata": {
        "id": "LOZbxhduW5F8",
        "colab_type": "text"
      },
      "source": [
        "## Install dependencies"
      ]
    },
    {
      "cell_type": "code",
      "metadata": {
        "id": "GtJPR7BZW7d_",
        "colab_type": "code",
        "colab": {}
      },
      "source": [
        "!pip install -q imageio"
      ],
      "execution_count": 0,
      "outputs": []
    },
    {
      "cell_type": "markdown",
      "metadata": {
        "id": "g-42v6dkWvDh",
        "colab_type": "text"
      },
      "source": [
        "## Import packages"
      ]
    },
    {
      "cell_type": "code",
      "metadata": {
        "id": "zfCjYjRJGCMk",
        "colab_type": "code",
        "colab": {}
      },
      "source": [
        "import glob\n",
        "import os\n",
        "import PIL\n",
        "import time\n",
        "import imageio\n",
        "import tensorflow as tf\n",
        "import matplotlib.pyplot as plt\n",
        "from matplotlib import animation\n",
        "import numpy as np\n",
        "from tqdm.notebook import tqdm\n",
        "from tensorflow import keras\n",
        "from IPython import display"
      ],
      "execution_count": 0,
      "outputs": []
    },
    {
      "cell_type": "markdown",
      "metadata": {
        "id": "ImsAZVKWXSqQ",
        "colab_type": "text"
      },
      "source": [
        "## Load and prepare dataset"
      ]
    },
    {
      "cell_type": "code",
      "metadata": {
        "id": "J_kEgBziW0HL",
        "colab_type": "code",
        "colab": {
          "base_uri": "https://localhost:8080/",
          "height": 51
        },
        "outputId": "1a1867af-6262-4d6e-8ada-ae7f04f3873b"
      },
      "source": [
        "(raw_train_images, train_labels), (_, _) = tf.keras.datasets.mnist.load_data()"
      ],
      "execution_count": 3,
      "outputs": [
        {
          "output_type": "stream",
          "text": [
            "Downloading data from https://storage.googleapis.com/tensorflow/tf-keras-datasets/mnist.npz\n",
            "11493376/11490434 [==============================] - 1s 0us/step\n"
          ],
          "name": "stdout"
        }
      ]
    },
    {
      "cell_type": "code",
      "metadata": {
        "id": "gcLHcoiCXdjA",
        "colab_type": "code",
        "outputId": "5f3fbef8-15c9-444c-da31-d262d10b5aa3",
        "colab": {
          "base_uri": "https://localhost:8080/",
          "height": 34
        }
      },
      "source": [
        "print(raw_train_images.shape)"
      ],
      "execution_count": 4,
      "outputs": [
        {
          "output_type": "stream",
          "text": [
            "(60000, 28, 28)\n"
          ],
          "name": "stdout"
        }
      ]
    },
    {
      "cell_type": "code",
      "metadata": {
        "id": "SMqB0PgRXjGc",
        "colab_type": "code",
        "colab": {}
      },
      "source": [
        "dataset_size = raw_train_images.shape[0]\n",
        "batch_size = 256\n",
        "unnormalized_train_images = raw_train_images.reshape(dataset_size, 28, 28, 1)"
      ],
      "execution_count": 0,
      "outputs": []
    },
    {
      "cell_type": "code",
      "metadata": {
        "id": "qhNMGm00X6pT",
        "colab_type": "code",
        "colab": {}
      },
      "source": [
        "ordered_train_images = (unnormalized_train_images - (255.0 / 2)) / (255.0 / 2)"
      ],
      "execution_count": 0,
      "outputs": []
    },
    {
      "cell_type": "code",
      "metadata": {
        "id": "U5WGyp3ZYO1K",
        "colab_type": "code",
        "colab": {}
      },
      "source": [
        "train_images = tf.data.Dataset.from_tensor_slices(\n",
        "    ordered_train_images).shuffle(dataset_size).batch(batch_size)"
      ],
      "execution_count": 0,
      "outputs": []
    },
    {
      "cell_type": "markdown",
      "metadata": {
        "id": "mQt4GjShYzzj",
        "colab_type": "text"
      },
      "source": [
        "## Construct generator model"
      ]
    },
    {
      "cell_type": "code",
      "metadata": {
        "id": "qRFId7tSYmNU",
        "colab_type": "code",
        "colab": {}
      },
      "source": [
        "def build_generator_model():\n",
        "  model = keras.models.Sequential()\n",
        "  model.add(keras.layers.Dense(7*7*256, use_bias=False, input_shape=(100,)))\n",
        "  model.add(keras.layers.BatchNormalization())\n",
        "  model.add(keras.layers.LeakyReLU())\n",
        "  model.add(keras.layers.Reshape((7, 7, 256)))\n",
        "  model.add(keras.layers.Conv2DTranspose(\n",
        "      128, (5, 5), strides=(1, 1), padding='same', use_bias=False))\n",
        "  model.add(keras.layers.BatchNormalization())\n",
        "  model.add(keras.layers.LeakyReLU())\n",
        "  model.add(keras.layers.Conv2DTranspose(\n",
        "      64, (5, 5), strides=(2, 2), padding='same', use_bias=False))\n",
        "  model.add(keras.layers.BatchNormalization())\n",
        "  model.add(keras.layers.LeakyReLU())\n",
        "  model.add(keras.layers.Conv2DTranspose(\n",
        "      1, (5, 5), strides=(2, 2), padding='same', use_bias=False))\n",
        "  return model"
      ],
      "execution_count": 0,
      "outputs": []
    },
    {
      "cell_type": "markdown",
      "metadata": {
        "id": "2CUpDVIqbuFM",
        "colab_type": "text"
      },
      "source": [
        "## Test drive the generator model"
      ]
    },
    {
      "cell_type": "code",
      "metadata": {
        "id": "rp5m1t5laTRN",
        "colab_type": "code",
        "colab": {}
      },
      "source": [
        "generator = build_generator_model()"
      ],
      "execution_count": 0,
      "outputs": []
    },
    {
      "cell_type": "code",
      "metadata": {
        "id": "sCn0XThj00cQ",
        "colab_type": "code",
        "colab": {
          "base_uri": "https://localhost:8080/",
          "height": 34
        },
        "outputId": "d37da294-a6f0-4d7d-f888-e426b2eb2306"
      },
      "source": [
        "print('generator trainable variables: ', len(generator.trainable_variables))"
      ],
      "execution_count": 10,
      "outputs": [
        {
          "output_type": "stream",
          "text": [
            "generator trainable variables:  10\n"
          ],
          "name": "stdout"
        }
      ]
    },
    {
      "cell_type": "code",
      "metadata": {
        "id": "zHF0gijuCfs6",
        "colab_type": "code",
        "colab": {}
      },
      "source": [
        "def test_drive_generator(generator, desc='Description not set'):\n",
        "  row_cnt = 5\n",
        "  col_cnt = 2\n",
        "  fig, axs = plt.subplots(col_cnt, row_cnt, figsize=(20,5))\n",
        "  fig.suptitle(desc)\n",
        "  for i in range(row_cnt * col_cnt):\n",
        "    random_noise = tf.random.normal((1, 100))\n",
        "    generated_image = generator(random_noise, training=False)\n",
        "    axs[i%col_cnt, i//col_cnt].imshow(generated_image[0, :, :, 0], cmap='gray', animated=True)\n",
        "  plt.show()"
      ],
      "execution_count": 0,
      "outputs": []
    },
    {
      "cell_type": "code",
      "metadata": {
        "id": "0hV5Lnzh-jii",
        "colab_type": "code",
        "colab": {
          "base_uri": "https://localhost:8080/",
          "height": 356
        },
        "outputId": "7259eb83-bc5a-4497-cefb-f2e02fda5774"
      },
      "source": [
        "test_drive_generator(generator, desc='Example digits')"
      ],
      "execution_count": 12,
      "outputs": [
        {
          "output_type": "display_data",
          "data": {
            "image/png": "[encoded data removed]",
            "text/plain": [
              "<Figure size 1440x360 with 10 Axes>"
            ]
          },
          "metadata": {
            "tags": [],
            "needs_background": "light"
          }
        }
      ]
    },
    {
      "cell_type": "markdown",
      "metadata": {
        "id": "kc9ues3YccBR",
        "colab_type": "text"
      },
      "source": [
        "## Build the discriminator"
      ]
    },
    {
      "cell_type": "code",
      "metadata": {
        "id": "zJSGpaTlbhah",
        "colab_type": "code",
        "colab": {}
      },
      "source": [
        "def build_discriminator_model():\n",
        "  model = keras.models.Sequential()\n",
        "  model.add(keras.layers.Conv2D(\n",
        "      64, (5,5), strides=(2,2), padding='same', input_shape=(28, 28, 1)))\n",
        "  model.add(keras.layers.LeakyReLU())\n",
        "  model.add(keras.layers.Dropout(0.3))\n",
        "  model.add(keras.layers.Conv2D(128, (5, 5), strides=(2,2), padding='same'))\n",
        "  model.add(keras.layers.LeakyReLU())\n",
        "  model.add(keras.layers.Dropout(0.3))\n",
        "  model.add(keras.layers.Flatten())\n",
        "  model.add(keras.layers.Dense(1))\n",
        "  return model"
      ],
      "execution_count": 0,
      "outputs": []
    },
    {
      "cell_type": "markdown",
      "metadata": {
        "id": "K8IR9SwPdkf6",
        "colab_type": "text"
      },
      "source": [
        "### Test drive the discriminator"
      ]
    },
    {
      "cell_type": "code",
      "metadata": {
        "id": "0l5uS-f4dgwc",
        "colab_type": "code",
        "colab": {}
      },
      "source": [
        "discriminator = build_discriminator_model()"
      ],
      "execution_count": 0,
      "outputs": []
    },
    {
      "cell_type": "code",
      "metadata": {
        "id": "0CUGe4N71EHT",
        "colab_type": "code",
        "colab": {
          "base_uri": "https://localhost:8080/",
          "height": 34
        },
        "outputId": "eb3a7643-b66a-4549-dc3a-10f98597b16c"
      },
      "source": [
        "print('discriminator trainable variables: ', len(discriminator.trainable_variables))"
      ],
      "execution_count": 15,
      "outputs": [
        {
          "output_type": "stream",
          "text": [
            "discriminator trainable variables:  6\n"
          ],
          "name": "stdout"
        }
      ]
    },
    {
      "cell_type": "code",
      "metadata": {
        "id": "FpymDikmdjZe",
        "colab_type": "code",
        "outputId": "89ce1b20-687b-4433-8d0c-e7d06f72c1bd",
        "colab": {
          "base_uri": "https://localhost:8080/",
          "height": 34
        }
      },
      "source": [
        "random_noise = tf.random.normal((1, 100))\n",
        "generated_image = generator(random_noise, training=False)\n",
        "test_drive_classification = discriminator(generated_image)\n",
        "print(test_drive_classification)"
      ],
      "execution_count": 17,
      "outputs": [
        {
          "output_type": "stream",
          "text": [
            "tf.Tensor([[-0.00088394]], shape=(1, 1), dtype=float32)\n"
          ],
          "name": "stdout"
        }
      ]
    },
    {
      "cell_type": "markdown",
      "metadata": {
        "id": "y9KSX6SueBPe",
        "colab_type": "text"
      },
      "source": [
        "## Build the losses"
      ]
    },
    {
      "cell_type": "code",
      "metadata": {
        "id": "Of-vE7uid5SI",
        "colab_type": "code",
        "colab": {}
      },
      "source": [
        "def get_discriminator_loss(real_output, fake_output):\n",
        "  real_loss = keras.losses.BinaryCrossentropy(\n",
        "      from_logits=True)(tf.ones_like(real_output), real_output)\n",
        "  fake_loss = keras.losses.BinaryCrossentropy(\n",
        "      from_logits=True)(tf.zeros_like(fake_output), fake_output)\n",
        "  final_loss = real_loss + fake_loss\n",
        "  return final_loss"
      ],
      "execution_count": 0,
      "outputs": []
    },
    {
      "cell_type": "code",
      "metadata": {
        "id": "JsvlUgFmgbzc",
        "colab_type": "code",
        "colab": {}
      },
      "source": [
        "def get_generator_loss(fake_output):\n",
        "  loss = keras.losses.BinaryCrossentropy(from_logits=True)(\n",
        "      tf.ones_like(fake_output), fake_output)\n",
        "  return loss"
      ],
      "execution_count": 0,
      "outputs": []
    },
    {
      "cell_type": "markdown",
      "metadata": {
        "id": "e5TS-Xkap2Gi",
        "colab_type": "text"
      },
      "source": [
        "# Build the optimizers"
      ]
    },
    {
      "cell_type": "code",
      "metadata": {
        "id": "IWdvZ217p1aR",
        "colab_type": "code",
        "colab": {}
      },
      "source": [
        "generator_optimizer = keras.optimizers.Adam(learning_rate=0.0001)\n",
        "discriminator_optimizer = keras.optimizers.Adam(learning_rate=0.0001)"
      ],
      "execution_count": 0,
      "outputs": []
    },
    {
      "cell_type": "markdown",
      "metadata": {
        "id": "j92S3RgpqdYt",
        "colab_type": "text"
      },
      "source": [
        "## Train"
      ]
    },
    {
      "cell_type": "markdown",
      "metadata": {
        "id": "wkzbEs3Xqgse",
        "colab_type": "text"
      },
      "source": [
        "### Configuration"
      ]
    },
    {
      "cell_type": "code",
      "metadata": {
        "id": "ZhlsQWyYqZ1S",
        "colab_type": "code",
        "colab": {}
      },
      "source": [
        "epochs = 100\n",
        "noise_dim = 100\n",
        "num_examples_to_generate = 16"
      ],
      "execution_count": 0,
      "outputs": []
    },
    {
      "cell_type": "code",
      "metadata": {
        "id": "RBtKXgtnyZP8",
        "colab_type": "code",
        "colab": {}
      },
      "source": [
        "seed = tf.random.normal((num_examples_to_generate, noise_dim))"
      ],
      "execution_count": 0,
      "outputs": []
    },
    {
      "cell_type": "markdown",
      "metadata": {
        "id": "-1J7lb-uylB2",
        "colab_type": "text"
      },
      "source": [
        "### Training logic"
      ]
    },
    {
      "cell_type": "code",
      "metadata": {
        "id": "aAmU9IfRyezP",
        "colab_type": "code",
        "colab": {}
      },
      "source": [
        "def train_step(images):\n",
        "  noise = tf.random.normal((batch_size, noise_dim))\n",
        "  with tf.GradientTape() as gen_tape, tf.GradientTape() as dis_tape:\n",
        "    generated_images = generator(noise, training=True)\n",
        "    real_output = discriminator(images, training=True)\n",
        "    fake_output = discriminator(generated_images, training=True)\n",
        "    gen_loss = get_generator_loss(fake_output)\n",
        "    dis_loss = get_discriminator_loss(real_output, fake_output)\n",
        "  dis_gradients = dis_tape.gradient(dis_loss, discriminator.trainable_variables)\n",
        "  gen_gradients = gen_tape.gradient(gen_loss, generator.trainable_variables)\n",
        "  discriminator_optimizer.apply_gradients(\n",
        "      zip(dis_gradients, discriminator.trainable_variables))\n",
        "  generator_optimizer.apply_gradients(\n",
        "      zip(gen_gradients, generator.trainable_variables))"
      ],
      "execution_count": 0,
      "outputs": []
    },
    {
      "cell_type": "markdown",
      "metadata": {
        "id": "u4omeKkB1S5c",
        "colab_type": "text"
      },
      "source": [
        "### Training loop"
      ]
    },
    {
      "cell_type": "code",
      "metadata": {
        "id": "v1hdccgc1FS_",
        "colab_type": "code",
        "colab": {}
      },
      "source": [
        "def train(dataset, epochs, snapshot_interval):\n",
        "  epoch_size = len(list(dataset.as_numpy_iterator()))\n",
        "  global_pbar = tqdm(total=epochs * epoch_size)\n",
        "  global_pbar.set_description('Epochs')\n",
        "  for epoch in range(epochs):\n",
        "    for img_batch in dataset:\n",
        "      global_pbar.update(1)\n",
        "      train_step(img_batch)\n",
        "    if epoch % snapshot_interval == 0:\n",
        "      test_drive_generator(generator, desc=f'Sample @ epoch {str(epoch)}')\n",
        "  global_pbar.close()"
      ],
      "execution_count": 0,
      "outputs": []
    },
    {
      "cell_type": "code",
      "metadata": {
        "id": "en507juj1nHB",
        "colab_type": "code",
        "outputId": "9d60996d-30eb-487f-9618-6f2a70ab77b4",
        "colab": {
          "base_uri": "https://localhost:8080/",
          "height": 727,
          "referenced_widgets": [
            "afe401958aef4cbb8992542fea45db25",
            "561de5357c00416ca0ab696494287692",
            "d44865d713954cbb8841ce36614a709e",
            "05f03264428c4f8cbbdf4c3ed8d8748d",
            "66007372ec344b02abf4d8dd2ec7edb0",
            "e63a1bacf4644a5fa302a5e53f5ee268",
            "634ed7db9b014cc6b57217c1011d83a2",
            "45f5a3334bb3486fa17c324fea907320"
          ]
        }
      },
      "source": [
        "train(train_images, epochs, 10)"
      ],
      "execution_count": 0,
      "outputs": [
        {
          "output_type": "display_data",
          "data": {
            "application/vnd.jupyter.widget-view+json": {
              "model_id": "afe401958aef4cbb8992542fea45db25",
              "version_minor": 0,
              "version_major": 2
            },
            "text/plain": [
              "HBox(children=(FloatProgress(value=0.0, max=23500.0), HTML(value='')))"
            ]
          },
          "metadata": {
            "tags": []
          }
        },
        {
          "output_type": "display_data",
          "data": {
            "image/png": "[encoded data removed]",
            "text/plain": [
              "<Figure size 1440x360 with 10 Axes>"
            ]
          },
          "metadata": {
            "tags": [],
            "needs_background": "light"
          }
        },
        {
          "output_type": "display_data",
          "data": {
            "image/png": "[encoded data removed]",
            "text/plain": [
              "<Figure size 1440x360 with 10 Axes>"
            ]
          },
          "metadata": {
            "tags": [],
            "needs_background": "light"
          }
        }
      ]
    },
    {
      "cell_type": "code",
      "metadata": {
        "id": "EPzoNKtY1rmX",
        "colab_type": "code",
        "colab": {}
      },
      "source": [
        ""
      ],
      "execution_count": 0,
      "outputs": []
    }
  ]
}