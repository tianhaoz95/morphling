{
  "nbformat": 4,
  "nbformat_minor": 0,
  "metadata": {
    "colab": {
      "name": "style_gan_experiment.ipynb",
      "provenance": [],
      "toc_visible": true,
      "authorship_tag": "ABX9TyOYmYjzd3MbTOT+OA/ucL42",
      "include_colab_link": true
    },
    "kernelspec": {
      "name": "python3",
      "display_name": "Python 3"
    }
  },
  "cells": [
    {
      "cell_type": "markdown",
      "metadata": {
        "id": "view-in-github",
        "colab_type": "text"
      },
      "source": [
        "<a href=\"https://colab.research.google.com/github/tianhaoz95/morphling/blob/experiment%2Fstyle-gan/notebooks/style_gan_experiment.ipynb\" target=\"_parent\"><img src=\"https://colab.research.google.com/assets/colab-badge.svg\" alt=\"Open In Colab\"/></a>"
      ]
    },
    {
      "cell_type": "markdown",
      "metadata": {
        "id": "zYbtBhjwGHS1",
        "colab_type": "text"
      },
      "source": [
        "# GAN Experiment"
      ]
    },
    {
      "cell_type": "markdown",
      "metadata": {
        "id": "LOZbxhduW5F8",
        "colab_type": "text"
      },
      "source": [
        "## Install dependencies"
      ]
    },
    {
      "cell_type": "code",
      "metadata": {
        "id": "GtJPR7BZW7d_",
        "colab_type": "code",
        "colab": {}
      },
      "source": [
        "!pip install -q imageio"
      ],
      "execution_count": 0,
      "outputs": []
    },
    {
      "cell_type": "markdown",
      "metadata": {
        "id": "g-42v6dkWvDh",
        "colab_type": "text"
      },
      "source": [
        "## Import packages"
      ]
    },
    {
      "cell_type": "code",
      "metadata": {
        "id": "zfCjYjRJGCMk",
        "colab_type": "code",
        "colab": {}
      },
      "source": [
        "import glob\n",
        "import os\n",
        "import PIL\n",
        "import time\n",
        "import imageio\n",
        "import tensorflow as tf\n",
        "import matplotlib.pyplot as plt\n",
        "import numpy as np\n",
        "from tensorflow import keras\n",
        "from IPython import display"
      ],
      "execution_count": 0,
      "outputs": []
    },
    {
      "cell_type": "markdown",
      "metadata": {
        "id": "ImsAZVKWXSqQ",
        "colab_type": "text"
      },
      "source": [
        "## Load and prepare dataset"
      ]
    },
    {
      "cell_type": "code",
      "metadata": {
        "id": "J_kEgBziW0HL",
        "colab_type": "code",
        "colab": {}
      },
      "source": [
        "(raw_train_images, train_labels), (_, _) = tf.keras.datasets.mnist.load_data()"
      ],
      "execution_count": 0,
      "outputs": []
    },
    {
      "cell_type": "code",
      "metadata": {
        "id": "gcLHcoiCXdjA",
        "colab_type": "code",
        "colab": {
          "base_uri": "https://localhost:8080/",
          "height": 34
        },
        "outputId": "0fdcbb56-72a8-4d4c-df17-a29174b85418"
      },
      "source": [
        "print(raw_train_images.shape)"
      ],
      "execution_count": 7,
      "outputs": [
        {
          "output_type": "stream",
          "text": [
            "(60000, 28, 28)\n"
          ],
          "name": "stdout"
        }
      ]
    },
    {
      "cell_type": "code",
      "metadata": {
        "id": "SMqB0PgRXjGc",
        "colab_type": "code",
        "colab": {}
      },
      "source": [
        "dataset_size = raw_train_images.shape[0]\n",
        "batch_size = 256\n",
        "unnormalized_train_images = raw_train_images.reshape(dataset_size, 28, 28, 1)"
      ],
      "execution_count": 0,
      "outputs": []
    },
    {
      "cell_type": "code",
      "metadata": {
        "id": "qhNMGm00X6pT",
        "colab_type": "code",
        "colab": {}
      },
      "source": [
        "ordered_train_images = (unnormalized_train_images - (255.0 / 2)) / (255.0 / 2)"
      ],
      "execution_count": 0,
      "outputs": []
    },
    {
      "cell_type": "code",
      "metadata": {
        "id": "U5WGyp3ZYO1K",
        "colab_type": "code",
        "colab": {}
      },
      "source": [
        "train_images = tf.data.Dataset.from_tensor_slices(\n",
        "    ordered_train_images).shuffle(dataset_size).batch(batch_size)"
      ],
      "execution_count": 0,
      "outputs": []
    },
    {
      "cell_type": "markdown",
      "metadata": {
        "id": "mQt4GjShYzzj",
        "colab_type": "text"
      },
      "source": [
        "## Construct generator model"
      ]
    },
    {
      "cell_type": "code",
      "metadata": {
        "id": "qRFId7tSYmNU",
        "colab_type": "code",
        "colab": {}
      },
      "source": [
        "def build_generator_model():\n",
        "  model = keras.models.Sequential()\n",
        "  model.add(keras.layers.Dense(7*7*256, use_bias=False, input_shape=(100,)))\n",
        "  model.add(keras.layers.BatchNormalization())\n",
        "  model.add(keras.layers.LeakyReLU())\n",
        "  model.add(keras.layers.Reshape((7, 7, 256)))\n",
        "  model.add(keras.layers.Conv2DTranspose(\n",
        "      128, (5, 5), strides=(1, 1), padding='same', use_bias=False))\n",
        "  model.add(keras.layers.BatchNormalization())\n",
        "  model.add(keras.layers.LeakyReLU())\n",
        "  model.add(keras.layers.Conv2DTranspose(\n",
        "      64, (5, 5), strides=(2, 2), padding='same', use_bias=False))\n",
        "  model.add(keras.layers.BatchNormalization())\n",
        "  model.add(keras.layers.LeakyReLU())\n",
        "  model.add(keras.layers.Conv2DTranspose(\n",
        "      1, (5, 5), strides=(2, 2), padding='same', use_bias=False))\n",
        "  return model"
      ],
      "execution_count": 0,
      "outputs": []
    },
    {
      "cell_type": "markdown",
      "metadata": {
        "id": "2CUpDVIqbuFM",
        "colab_type": "text"
      },
      "source": [
        "## Test drive the generator model"
      ]
    },
    {
      "cell_type": "code",
      "metadata": {
        "id": "rp5m1t5laTRN",
        "colab_type": "code",
        "colab": {}
      },
      "source": [
        "generator = build_generator_model()"
      ],
      "execution_count": 0,
      "outputs": []
    },
    {
      "cell_type": "code",
      "metadata": {
        "id": "d8yqWJ_KaW6W",
        "colab_type": "code",
        "colab": {}
      },
      "source": [
        "random_noise = tf.random.normal((1, 100))"
      ],
      "execution_count": 0,
      "outputs": []
    },
    {
      "cell_type": "code",
      "metadata": {
        "id": "TFQ0cKGAbPlF",
        "colab_type": "code",
        "colab": {
          "base_uri": "https://localhost:8080/",
          "height": 265
        },
        "outputId": "440ad299-244d-4a11-ac91-b11d77c09fed"
      },
      "source": [
        "generated_image = generator(random_noise, training=False)\n",
        "plt.figure()\n",
        "plt.imshow(generated_image[0, :, :, 0], cmap='gray')\n",
        "plt.show()"
      ],
      "execution_count": 30,
      "outputs": [
        {
          "output_type": "display_data",
          "data": {
            "image/png": "[encoded data removed]",
            "text/plain": [
              "<Figure size 432x288 with 1 Axes>"
            ]
          },
          "metadata": {
            "tags": [],
            "needs_background": "light"
          }
        }
      ]
    },
    {
      "cell_type": "markdown",
      "metadata": {
        "id": "kc9ues3YccBR",
        "colab_type": "text"
      },
      "source": [
        "## Build the discriminator"
      ]
    },
    {
      "cell_type": "code",
      "metadata": {
        "id": "zJSGpaTlbhah",
        "colab_type": "code",
        "colab": {}
      },
      "source": [
        "def build_discriminator_model():\n",
        "  model = keras.models.Sequential()\n",
        "  model.add(keras.layers.Conv2D(\n",
        "      64, (5,5), strides=(2,2), padding='same', input_shape=(28, 28, 1)))\n",
        "  model.add(keras.layers.LeakyReLU())\n",
        "  model.add(keras.layers.Dropout(0.3))\n",
        "  model.add(keras.layers.Conv2D(128, (5, 5), strides=(2,2), padding='same'))\n",
        "  model.add(keras.layers.LeakyReLU())\n",
        "  model.add(keras.layers.Dropout(0.3))\n",
        "  model.add(keras.layers.Flatten())\n",
        "  model.add(keras.layers.Dense(1))\n",
        "  return model"
      ],
      "execution_count": 0,
      "outputs": []
    },
    {
      "cell_type": "markdown",
      "metadata": {
        "id": "K8IR9SwPdkf6",
        "colab_type": "text"
      },
      "source": [
        "### Test drive the discriminator"
      ]
    },
    {
      "cell_type": "code",
      "metadata": {
        "id": "0l5uS-f4dgwc",
        "colab_type": "code",
        "colab": {}
      },
      "source": [
        "discriminator = build_discriminator_model()"
      ],
      "execution_count": 0,
      "outputs": []
    },
    {
      "cell_type": "code",
      "metadata": {
        "id": "FpymDikmdjZe",
        "colab_type": "code",
        "colab": {
          "base_uri": "https://localhost:8080/",
          "height": 34
        },
        "outputId": "7d6bb23c-1ffb-4045-a0b7-6a4627aa06a2"
      },
      "source": [
        "test_drive_classification = discriminator(generated_image)\n",
        "print(test_drive_classification)"
      ],
      "execution_count": 35,
      "outputs": [
        {
          "output_type": "stream",
          "text": [
            "tf.Tensor([[-0.0032416]], shape=(1, 1), dtype=float32)\n"
          ],
          "name": "stdout"
        }
      ]
    },
    {
      "cell_type": "markdown",
      "metadata": {
        "id": "y9KSX6SueBPe",
        "colab_type": "text"
      },
      "source": [
        "## Build the losses"
      ]
    },
    {
      "cell_type": "code",
      "metadata": {
        "id": "Of-vE7uid5SI",
        "colab_type": "code",
        "colab": {}
      },
      "source": [
        "def build_discriminator_loss(real_output, fake_output):\n",
        "  real_loss = keras.losses.BinaryCrossentropy(\n",
        "      from_logits=True)(tf.ones_like(real_output), real_output)\n",
        "  fake_loss = keras.losses.BinaryCrossentropy(\n",
        "      from_logits=True)(tf.zeros_like(fake_output), fake_output)\n",
        "  final_loss = real_loss + fake_loss\n",
        "  return final_loss"
      ],
      "execution_count": 0,
      "outputs": []
    },
    {
      "cell_type": "code",
      "metadata": {
        "id": "JsvlUgFmgbzc",
        "colab_type": "code",
        "colab": {}
      },
      "source": [
        "def build_generator_loss(fake_output):\n",
        "  loss = keras.losses.BinaryCrossentropy(from_logits=True)(\n",
        "      tf.ones_like(fake_output), fake_output)"
      ],
      "execution_count": 0,
      "outputs": []
    },
    {
      "cell_type": "markdown",
      "metadata": {
        "id": "e5TS-Xkap2Gi",
        "colab_type": "text"
      },
      "source": [
        "# Build the optimizers"
      ]
    },
    {
      "cell_type": "code",
      "metadata": {
        "id": "IWdvZ217p1aR",
        "colab_type": "code",
        "colab": {}
      },
      "source": [
        "generator_optimizer = keras.optimizers.Adam(learning_rate=0.0001)\n",
        "discriminator_optimizer = keras.optimizers.Adam(learning_rate=0.0001)"
      ],
      "execution_count": 0,
      "outputs": []
    },
    {
      "cell_type": "markdown",
      "metadata": {
        "id": "j92S3RgpqdYt",
        "colab_type": "text"
      },
      "source": [
        "## Train"
      ]
    },
    {
      "cell_type": "markdown",
      "metadata": {
        "id": "wkzbEs3Xqgse",
        "colab_type": "text"
      },
      "source": [
        "### Configuration"
      ]
    },
    {
      "cell_type": "code",
      "metadata": {
        "id": "ZhlsQWyYqZ1S",
        "colab_type": "code",
        "colab": {}
      },
      "source": [
        ""
      ],
      "execution_count": 0,
      "outputs": []
    }
  ]
}